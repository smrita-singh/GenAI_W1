{
 "cells": [
  {
   "cell_type": "code",
   "execution_count": 2,
   "metadata": {},
   "outputs": [],
   "source": [
    "import openai\n",
    "import os"
   ]
  },
  {
   "cell_type": "code",
   "execution_count": 3,
   "metadata": {},
   "outputs": [],
   "source": [
    "openai.api_type = \"azure\"\n",
    "openai.api_version = \"2023-05-15\"\n",
    "openai.api_key = \"a5637d1b2ad34453807c8a71cecd9dfd\"\n",
    "openai.api_base =\"https://jp-sandbox.openai.azure.com/\""
   ]
  },
  {
   "cell_type": "code",
   "execution_count": 17,
   "metadata": {},
   "outputs": [],
   "source": [
    "os.environ[\"OPENAI_API_TYPE\"] = \"azure\"\n",
    "os.environ[\"OPENAI_API_BASE\"] = \"https://jp-sandbox.openai.azure.com/\"\n",
    "os.environ[\"OPENAI_API_KEY\"] = \"a5637d1b2ad34453807c8a71cecd9dfd\"\n",
    "os.environ[\"OPENAI_API_VERSION\"] = \"2023-05-15\"\n",
    "deployment_name = 'gpt-4'"
   ]
  },
  {
   "cell_type": "markdown",
   "metadata": {},
   "source": [
    "Test if api works"
   ]
  },
  {
   "cell_type": "code",
   "execution_count": 138,
   "metadata": {},
   "outputs": [
    {
     "name": "stdout",
     "output_type": "stream",
     "text": [
      "EY, formerly known as Ernst & Young, is one of the \"Big Four\" global professional services firms. It offers a wide range of services, including audit, tax, consulting, and advisory services to various industries around the world. EY is headquartered in London, England, and has offices in more than 150 countries, employing over 300,000 people.\n",
      "\n",
      "The company's clients include corporations, governments, and public sector entities. EY helps organizations manage risk, improve performance, and address complex issues by providing tailored solutions. As a member of the Big Four, EY is considered one of the largest and most prestigious accounting and professional services firms in the world, alongside Deloitte, KPMG, and PwC.\n"
     ]
    }
   ],
   "source": [
    "response = openai.ChatCompletion.create(\n",
    "    engine=\"gpt-4\", # The deployment name you chose when you deployed the GPT-35-Turbo or GPT-4 model.\n",
    "    messages = [\n",
    "        {\"role\": \"system\", \"content\": \"Assistant is a large language model trained by OpenAI.\"},\n",
    "        {\"role\": \"user\", \"content\": \"What is EY?\"}\n",
    "        ]\n",
    "        )\n",
    "\n",
    "#print(response)\n",
    "print(response['choices'][0]['message']['content'])"
   ]
  },
  {
   "cell_type": "markdown",
   "metadata": {},
   "source": [
    "**Load data**"
   ]
  },
  {
   "cell_type": "code",
   "execution_count": 5,
   "metadata": {},
   "outputs": [],
   "source": [
    "# import pandas as pd\n",
    "# raw_data = pd.read_csv(\"patient_notes.csv\")\n",
    "# rand_sample = raw_data.sample(n=100, random_state=123)\n",
    "# rand_sample.shape"
   ]
  },
  {
   "cell_type": "code",
   "execution_count": 6,
   "metadata": {},
   "outputs": [],
   "source": [
    "#rand_sample.to_csv(\"random_100notes.csv\", index=False)"
   ]
  },
  {
   "cell_type": "code",
   "execution_count": 139,
   "metadata": {},
   "outputs": [],
   "source": [
    "from langchain.document_loaders.csv_loader import CSVLoader\n",
    "loader = CSVLoader(\n",
    "    file_path=\"./random_100notes.csv\",\n",
    "    csv_args = {\"fieldnames\": [\"pn_num\", \"case_num\", \"pn_history\"],},\n",
    "    source_column = \"pn_num\"\n",
    "    )\n",
    "\n",
    "data = loader.load()"
   ]
  },
  {
   "cell_type": "code",
   "execution_count": 140,
   "metadata": {},
   "outputs": [
    {
     "data": {
      "text/plain": [
       "Document(page_content=\"pn_num: 81630\\ncase_num: 8\\npn_history: 67 yo female with hx of breast CA in remission and HTN presents to clinic with c/o 3 weeks of insomnia. Pt states her son died suddenly in late July in an MVA. Since that time, she has found it difficult to fall asleep and also feels as though she tosses and turns and awakens early. She tried a friend's Ambien for the past 5 nights without relief. Of note, pt has felt sad and notes decreased interest in activities as well as low energy. However, she denies SI, HI, depression/hopelessness, guilt, concentration defitict, or psychomotor agitation or depression. Denies palpitations, chest pain, cough, SOB, HA, numbness, tingling or weakness. \\r\\nROS: as above\\r\\nPMH: HTN, breast cancer in remission x10 years\\r\\nFam: Mother hx of depression, in 90s now. No hx of thyroid \\r\\nSurg: Lumpectomy, laparotomy for appendix rupture in 20s\\r\\nSoc: Never smoker. 2 glasses of wine 2-3x per week, none in past 3 weeks. No illicit drugs Meds: HCTZ, lisinopril All:No\", metadata={'source': '81630', 'row': 1})"
      ]
     },
     "execution_count": 140,
     "metadata": {},
     "output_type": "execute_result"
    }
   ],
   "source": [
    "data[1]"
   ]
  },
  {
   "cell_type": "markdown",
   "metadata": {},
   "source": [
    "Split the files into chunks"
   ]
  },
  {
   "cell_type": "code",
   "execution_count": 141,
   "metadata": {},
   "outputs": [],
   "source": [
    "from langchain.embeddings.openai import OpenAIEmbeddings\n",
    "\n",
    "embeddings = OpenAIEmbeddings(\n",
    "    deployment = \"text-embedding-ada-002\",\n",
    "    model = \"gpt-4\",\n",
    "    openai_api_key = os.getenv(\"OPENAI_API_KEY\"),\n",
    "    openai_api_base = os.getenv(\"OPENAI_API_BASE\"),\n",
    "    openai_api_type = \"azure\",\n",
    "    chunk_size = 16,\n",
    ")"
   ]
  },
  {
   "cell_type": "code",
   "execution_count": 142,
   "metadata": {},
   "outputs": [],
   "source": [
    "from langchain.vectorstores import FAISS\n",
    "#chroma, pinecone \n",
    "\n",
    "full_index = FAISS.from_documents(data, embeddings)"
   ]
  },
  {
   "cell_type": "markdown",
   "metadata": {},
   "source": [
    "Enter Patient Number"
   ]
  },
  {
   "cell_type": "code",
   "execution_count": 136,
   "metadata": {},
   "outputs": [],
   "source": [
    "#full_index.docstore._dict"
   ]
  },
  {
   "cell_type": "code",
   "execution_count": 143,
   "metadata": {},
   "outputs": [
    {
     "data": {
      "text/plain": [
       "Document(page_content=\"pn_num: 81630\\ncase_num: 8\\npn_history: 67 yo female with hx of breast CA in remission and HTN presents to clinic with c/o 3 weeks of insomnia. Pt states her son died suddenly in late July in an MVA. Since that time, she has found it difficult to fall asleep and also feels as though she tosses and turns and awakens early. She tried a friend's Ambien for the past 5 nights without relief. Of note, pt has felt sad and notes decreased interest in activities as well as low energy. However, she denies SI, HI, depression/hopelessness, guilt, concentration defitict, or psychomotor agitation or depression. Denies palpitations, chest pain, cough, SOB, HA, numbness, tingling or weakness. \\r\\nROS: as above\\r\\nPMH: HTN, breast cancer in remission x10 years\\r\\nFam: Mother hx of depression, in 90s now. No hx of thyroid \\r\\nSurg: Lumpectomy, laparotomy for appendix rupture in 20s\\r\\nSoc: Never smoker. 2 glasses of wine 2-3x per week, none in past 3 weeks. No illicit drugs Meds: HCTZ, lisinopril All:No\", metadata={'source': '81630', 'row': 1})"
      ]
     },
     "execution_count": 143,
     "metadata": {},
     "output_type": "execute_result"
    }
   ],
   "source": [
    "data[1]"
   ]
  },
  {
   "cell_type": "code",
   "execution_count": 169,
   "metadata": {},
   "outputs": [
    {
     "data": {
      "text/plain": [
       "Document(page_content=\"pn_num: 36193\\ncase_num: 3\\npn_history: Px is 35 yo M presenting with epigastric pain 2 mo's duration.\\r\\n-Burning, gnawing\\r\\n-Intermittent, no associated with food intake\\r\\n-Previous 1x week, now 2/3x day, worsening\\r\\n-Antacids previously alleviated pain\\r\\n+fatigue, decreased appetite, bloating\\r\\n\\r\\nROS: neg except as above\\r\\nPMH: back pain\\r\\nPSH: none\\r\\nAllergies: NKDA\\r\\nMeds: motrin, antacid\\r\\nSH: 1 PPD since 15 yo, 3-4x beers /week, fast food diet\\r\\nFH: bleeding ulcer - father\", metadata={'source': '36193', 'row': 2})"
      ]
     },
     "execution_count": 169,
     "metadata": {},
     "output_type": "execute_result"
    }
   ],
   "source": [
    "data[2]"
   ]
  },
  {
   "cell_type": "code",
   "execution_count": 144,
   "metadata": {},
   "outputs": [
    {
     "data": {
      "text/plain": [
       "Document(page_content='pn_num: 22006\\ncase_num: 2\\npn_history: 44 yof presents with irregular periods. Patient states it started 3 yrs ago now her last menses was 2 months ago using 2-3 pads and at times 6 pads when heavy. she denies any discharge, odor, bleeding between menses, change in weight, feeling cold or hot, diarrehea or constipation, abdominal pain change in urine or bowel but complains of sweating and hot flashes recently.\\r\\nROS: negative except as above\\r\\nPMHX:HTN x 6 yrs, FMHX: mother with OA, meds: HCTZ, NKDA, PSH: none, SH: denies smoke, drugs, social drinker\\r\\nOBGYN: G2P2, sexually active with husband, denies any STD. Last pap smear was 1 year ago and normal.', metadata={'source': '22006', 'row': 100})"
      ]
     },
     "execution_count": 144,
     "metadata": {},
     "output_type": "execute_result"
    }
   ],
   "source": [
    "data[100]"
   ]
  },
  {
   "cell_type": "markdown",
   "metadata": {},
   "source": [
    "Retrieve rows for this patient only, from the vector store"
   ]
  },
  {
   "cell_type": "code",
   "execution_count": 270,
   "metadata": {},
   "outputs": [
    {
     "name": "stdout",
     "output_type": "stream",
     "text": [
      "- Age and gender of patient 81630: 67-year-old female\n",
      "- Medications taken: HCTZ, Lisinopril\n",
      "- Current symptoms mentioned by the patient: Insomnia for 3 weeks, difficulty falling asleep, tossing and turning, awakening early, sadness, decreased interest in activities, low energy\n",
      "- Family medical history: Mother with a history of depression, currently in her 90s; no history of thyroid issues\n",
      "\n",
      "Please note that this information is provided as a markdown.\n"
     ]
    },
    {
     "data": {
      "text/plain": [
       "[Document(page_content=\"pn_num: 81630\\ncase_num: 8\\npn_history: 67 yo female with hx of breast CA in remission and HTN presents to clinic with c/o 3 weeks of insomnia. Pt states her son died suddenly in late July in an MVA. Since that time, she has found it difficult to fall asleep and also feels as though she tosses and turns and awakens early. She tried a friend's Ambien for the past 5 nights without relief. Of note, pt has felt sad and notes decreased interest in activities as well as low energy. However, she denies SI, HI, depression/hopelessness, guilt, concentration defitict, or psychomotor agitation or depression. Denies palpitations, chest pain, cough, SOB, HA, numbness, tingling or weakness. \\r\\nROS: as above\\r\\nPMH: HTN, breast cancer in remission x10 years\\r\\nFam: Mother hx of depression, in 90s now. No hx of thyroid \\r\\nSurg: Lumpectomy, laparotomy for appendix rupture in 20s\\r\\nSoc: Never smoker. 2 glasses of wine 2-3x per week, none in past 3 weeks. No illicit drugs Meds: HCTZ, lisinopril All:No\", metadata={'source': '81630', 'row': 1})]"
      ]
     },
     "execution_count": 270,
     "metadata": {},
     "output_type": "execute_result"
    }
   ],
   "source": [
    "pat_num = '81630'\n",
    "\n",
    "# Retrieve rows for this patient only, from the vector store\n",
    "from langchain.chat_models import AzureChatOpenAI\n",
    "from langchain.chains import RetrievalQA\n",
    "retriever = full_index.as_retriever(search_type=\"mmr\", search_kwargs={'filter': {'source': pat_num}}) \n",
    "#retriever = full_index.as_retriever() \n",
    "llm = AzureChatOpenAI(deployment_name=\"gpt-4\", temperature=0)\n",
    "query = RetrievalQA.from_chain_type(llm = llm, chain_type = \"stuff\", retriever = retriever, \\\n",
    "                                return_source_documents=True)\n",
    "\n",
    "# Pass the query and the retrieved/relevant data to the LLM\n",
    "q1_name = query(f\"What is the age and gender of the patient {pat_num}?\\\n",
    "                List any medications taken.\\\n",
    "                List any current symptions mentioned by this patient.\\\n",
    "                List any family medical history hx.\\\n",
    "                Provide your answers as a markdown\")\n",
    "print(q1_name[\"result\"])\n",
    "q1_name[\"source_documents\"]"
   ]
  },
  {
   "cell_type": "code",
   "execution_count": 271,
   "metadata": {},
   "outputs": [
    {
     "name": "stdout",
     "output_type": "stream",
     "text": [
      "- Age and Gender: 45-year-old female (45 yo F)\n",
      "- Medications: Tylenol\n",
      "- Current Symptoms: Nervousness, anxiety (especially on Sunday nights and Monday mornings), difficulty falling asleep, decreased appetite\n",
      "- Family Medical History: Patient's dad died of a heart attack at 65. Mother is alive.\n"
     ]
    },
    {
     "data": {
      "text/plain": [
       "[Document(page_content='pn_num: 45368\\ncase_num: 4\\npn_history: 45 yo F presents with chief complaint of \"nervousness.\" Patient states that she has been \"anxious all the time\" since she switched to a lecturing position at her teaching job a few weeks ago. Anxiety is worst on Sunday nights and Monday mornings. Patient endorses associated difficulty falling asleep without difficulty maintaining sleep, as well as decreased appetite. Patient states that she drinks 5-6 cups of coffee per day, but states that she has done this for years. Denies depressed mood, feelings of guilt/worthlessness, loss of energy, difficulty concentrating, suicidal ideation, visual and auditory hallucinations\\r\\nPMH: Denies\\r\\nPSH: Denies\\r\\nFH: Patient\\'s dad died of a heart attack at 65. Mother alive \\r\\nSH: Patient drinks alcohol very occasionally, denies smoking, illicit drug use. Sexually active with husband, does not use contraception. Drinks 5-6 cups of coffee per day\\r\\nMeds: Tylenol\\r\\nAllergies: NKA', metadata={'source': '45368', 'row': 5})]"
      ]
     },
     "execution_count": 271,
     "metadata": {},
     "output_type": "execute_result"
    }
   ],
   "source": [
    "pat_num = '45368'\n",
    "\n",
    "# Retrieve rows for this patient only, from the vector store\n",
    "from langchain.chat_models import AzureChatOpenAI\n",
    "from langchain.chains import RetrievalQA\n",
    "retriever = full_index.as_retriever(search_type=\"mmr\", search_kwargs={'filter': {'source': pat_num}}) \n",
    "llm = AzureChatOpenAI(deployment_name=\"gpt-4\", temperature=0)\n",
    "query = RetrievalQA.from_chain_type(llm = llm, chain_type = \"stuff\", retriever = retriever, \\\n",
    "                                return_source_documents=True)\n",
    "\n",
    "# Pass the query and the retrieved/relevant data to the LLM\n",
    "q1_name = query(f\"What is the age and gender of the patient {pat_num}?\\\n",
    "                List any medications taken.\\\n",
    "                List any current symptions mentioned by this patient.\\\n",
    "                List any family medical history hx.\\\n",
    "                Provide your answers as a markdown\")\n",
    "print(q1_name[\"result\"])\n",
    "q1_name[\"source_documents\"]"
   ]
  },
  {
   "cell_type": "code",
   "execution_count": 272,
   "metadata": {},
   "outputs": [
    {
     "name": "stdout",
     "output_type": "stream",
     "text": [
      "- Age and gender of patient 22006: 44 years old female\n",
      "- Medications taken: HCTZ\n",
      "- Current symptoms mentioned by the patient: irregular periods, heavy menstrual bleeding (using 2-3 pads and at times 6 pads), sweating, and hot flashes\n",
      "- Family medical history: mother with osteoarthritis (OA)\n"
     ]
    },
    {
     "data": {
      "text/plain": [
       "[Document(page_content='pn_num: 22006\\ncase_num: 2\\npn_history: 44 yof presents with irregular periods. Patient states it started 3 yrs ago now her last menses was 2 months ago using 2-3 pads and at times 6 pads when heavy. she denies any discharge, odor, bleeding between menses, change in weight, feeling cold or hot, diarrehea or constipation, abdominal pain change in urine or bowel but complains of sweating and hot flashes recently.\\r\\nROS: negative except as above\\r\\nPMHX:HTN x 6 yrs, FMHX: mother with OA, meds: HCTZ, NKDA, PSH: none, SH: denies smoke, drugs, social drinker\\r\\nOBGYN: G2P2, sexually active with husband, denies any STD. Last pap smear was 1 year ago and normal.', metadata={'source': '22006', 'row': 100})]"
      ]
     },
     "execution_count": 272,
     "metadata": {},
     "output_type": "execute_result"
    }
   ],
   "source": [
    "pat_num = '22006'\n",
    "\n",
    "# Retrieve rows for this patient only, from the vector store\n",
    "from langchain.chat_models import AzureChatOpenAI\n",
    "from langchain.chains import RetrievalQA\n",
    "retriever = full_index.as_retriever(search_type=\"mmr\", search_kwargs={'filter': {'source': pat_num}}) \n",
    "#retriever = full_index.as_retriever() \n",
    "llm = AzureChatOpenAI(deployment_name=\"gpt-4\", temperature=0)\n",
    "query = RetrievalQA.from_chain_type(llm = llm, chain_type = \"stuff\", retriever = retriever, \\\n",
    "                                return_source_documents=True)\n",
    "\n",
    "# Pass the query and the retrieved/relevant data to the LLM\n",
    "q1_name = query(f\"What is the age and gender of the patient {pat_num}?\\\n",
    "                List any medications taken.\\\n",
    "                List any current symptions mentioned by this patient.\\\n",
    "                List any family medical history hx.\\\n",
    "                Provide your answers as a markdown\")\n",
    "print(q1_name[\"result\"])\n",
    "q1_name[\"source_documents\"]"
   ]
  },
  {
   "cell_type": "code",
   "execution_count": 273,
   "metadata": {},
   "outputs": [
    {
     "name": "stdout",
     "output_type": "stream",
     "text": [
      "- Age and Gender: 35 yo Male (35 yo M)\n",
      "- Medications: Motrin, Antacid\n",
      "- Current Symptoms: Epigastric pain (burning, gnawing), intermittent, not associated with food intake, worsening frequency (previously 1x week, now 2/3x day), fatigue, decreased appetite, bloating\n",
      "- Family Medical History: Bleeding ulcer (father)\n"
     ]
    },
    {
     "data": {
      "text/plain": [
       "[Document(page_content=\"pn_num: 36193\\ncase_num: 3\\npn_history: Px is 35 yo M presenting with epigastric pain 2 mo's duration.\\r\\n-Burning, gnawing\\r\\n-Intermittent, no associated with food intake\\r\\n-Previous 1x week, now 2/3x day, worsening\\r\\n-Antacids previously alleviated pain\\r\\n+fatigue, decreased appetite, bloating\\r\\n\\r\\nROS: neg except as above\\r\\nPMH: back pain\\r\\nPSH: none\\r\\nAllergies: NKDA\\r\\nMeds: motrin, antacid\\r\\nSH: 1 PPD since 15 yo, 3-4x beers /week, fast food diet\\r\\nFH: bleeding ulcer - father\", metadata={'source': '36193', 'row': 2})]"
      ]
     },
     "execution_count": 273,
     "metadata": {},
     "output_type": "execute_result"
    }
   ],
   "source": [
    "pat_num = '36193'\n",
    "\n",
    "# Retrieve rows for this patient only, from the vector store\n",
    "from langchain.chat_models import AzureChatOpenAI\n",
    "from langchain.chains import RetrievalQA\n",
    "retriever = full_index.as_retriever(search_type=\"mmr\", search_kwargs={'filter': {'source': pat_num}}) \n",
    "#retriever = full_index.as_retriever() \n",
    "llm = AzureChatOpenAI(deployment_name=\"gpt-4\", temperature=0)\n",
    "query = RetrievalQA.from_chain_type(llm = llm, chain_type = \"stuff\", retriever = retriever, \\\n",
    "                                return_source_documents=True)\n",
    "\n",
    "# Pass the query and the retrieved/relevant data to the LLM\n",
    "q1_name = query(f\"What is the age and gender of the patient {pat_num}?\\\n",
    "                List any medications taken.\\\n",
    "                List any current symptions mentioned by this patient.\\\n",
    "                List any family medical history hx.\\\n",
    "                Provide your answers as a markdown\")\n",
    "print(q1_name[\"result\"])\n",
    "q1_name[\"source_documents\"]"
   ]
  },
  {
   "cell_type": "code",
   "execution_count": 241,
   "metadata": {},
   "outputs": [
    {
     "data": {
      "text/plain": [
       "Document(page_content='pn_num: 55890\\ncase_num: 5\\npn_history: Ms Whelan is a 26 yo F with no significant PMHx, coming today in today for follow for ED visit for palpitations. about 5 years prior Ms Whelan had her first episode of heart palpitations however they were infrequent until 3 weeks ago when they started occuring 1-2x/day, and cooccured with finger numbness. She then visited the ED where EKG, CMP, cardiac enzymes, and EKg were normal. since then she has had palpitations about 1x/day, but no finger numbness. During these episodes she gets SOB and her throat \"closes up\", she also feels hot and clammy, and nauseous. Of note she did recently bought a condo 3months ago and then got laid off. She exercises regularly.\\r\\nPMHx: followed by and OBGYN and has no current problems. regular menstural cycle. no past surgeries or allergies\\r\\nFMHx: none\\r\\nSocHx: used to work in sales. no tobacco or etoh or drug use. No caffiene use. sexually active with 1 male, vaginal sex, uses condoms', metadata={'source': '55890', 'row': 99})"
      ]
     },
     "execution_count": 241,
     "metadata": {},
     "output_type": "execute_result"
    }
   ],
   "source": [
    "data[99]"
   ]
  },
  {
   "cell_type": "code",
   "execution_count": 340,
   "metadata": {},
   "outputs": [
    {
     "name": "stdout",
     "output_type": "stream",
     "text": [
      "I'm sorry, but I don't have any information about patient 55890. I cannot provide any details about their age, gender, medications, symptoms, or family medical history.\n"
     ]
    },
    {
     "data": {
      "text/plain": [
       "[]"
      ]
     },
     "execution_count": 340,
     "metadata": {},
     "output_type": "execute_result"
    }
   ],
   "source": [
    "pat_num = '55890'\n",
    "\n",
    "from langchain.chat_models import AzureChatOpenAI\n",
    "from langchain.chains import RetrievalQA\n",
    "#retriever = full_index.as_retriever(search_kwargs={'filter': {'source': pat_num}}) \n",
    "retriever = full_index.as_retriever(search_type=\"mmr\", search_kwargs={'filter': {'source': pat_num}}) \n",
    "llm = AzureChatOpenAI(deployment_name=\"gpt-4\", temperature=0)\n",
    "query = RetrievalQA.from_chain_type(llm = llm, chain_type = \"stuff\", retriever = retriever, \\\n",
    "                                return_source_documents=True)\n",
    "\n",
    "# Pass the query and the retrieved/relevant data to the LLM\n",
    "#q1_name = query(f\"What is the age and gender of this patient {pat_num}?\")\n",
    "q1_name = query(f\"What is the age and gender of this patient {pat_num}?\\\n",
    "                List any medications taken.\\\n",
    "                List any current symptions mentioned by this patient.\\\n",
    "                List any family medical history hx.\\\n",
    "                Provide your answers as a markdown\")\n",
    "print(q1_name[\"result\"])\n",
    "q1_name[\"source_documents\"]"
   ]
  },
  {
   "cell_type": "code",
   "execution_count": 339,
   "metadata": {},
   "outputs": [
    {
     "name": "stdout",
     "output_type": "stream",
     "text": [
      "- Age and Gender: 17 y.o. Male\n",
      "- Medications: Takes Adderall few days a week\n",
      "- Current Symptoms: Intermittent episodes of 'heart pounding' for the past 6 months, worsened over time, chest pressure without pain, no radiation, no headaches, shortness of breath and near syncope during a recent soccer game\n",
      "- Family Medical History: Mother with thyroid condition, Father had a heart attack 1 year ago (age 52)\n"
     ]
    },
    {
     "data": {
      "text/plain": [
       "[Document(page_content=\"pn_num: 1649\\ncase_num: 0\\npn_history: Mr. Cleveland is a 17 y.o. M presenting w/ intermittent episodes of 'heart pounding' for the past 6 months. This worsened over time and is without a trigger. Episodes come and go awa on their own. chest pressure without pain, no radiation. Denies headaches. Most recent episode was 2 days ago during soccer game when he had shortness of breath and near syncope. He is worried he will not play in tomorrow's game. \\r\\nPMH- None\\r\\nPSH- non\\r\\nMeds- Takes adderall few days a week\\r\\nAllergies- none\\r\\nMeds0- mother w/ thyroid condition. Father w/ heart attack 1 year ago (age 52)\\r\\nSocial- Lives in dorm. Freshman in colleg. Drinks weekends 3-4 beers. CAGE - Tried marijuana once. Sexually active w/ girlfriend. Uses condoms.\", metadata={'source': '1649', 'row': 98})]"
      ]
     },
     "execution_count": 339,
     "metadata": {},
     "output_type": "execute_result"
    }
   ],
   "source": [
    "pat_num = '1649'\n",
    "\n",
    "from langchain.chat_models import AzureChatOpenAI\n",
    "from langchain.chains import RetrievalQA\n",
    "retriever = full_index.as_retriever(search_type=\"mmr\", search_kwargs={'filter': {'source': pat_num}}) \n",
    "#retriever = full_index.as_retriever() \n",
    "llm = AzureChatOpenAI(deployment_name=\"gpt-4\", temperature=0)\n",
    "query = RetrievalQA.from_chain_type(llm = llm, chain_type = \"stuff\", retriever = retriever, \\\n",
    "                                return_source_documents=True)\n",
    "\n",
    "# Pass the query and the retrieved/relevant data to the LLM\n",
    "q1_name = query(f\"What is the age and gender of this patient {pat_num}?\\\n",
    "                List any medications taken.\\\n",
    "                List any current symptions mentioned by this patient.\\\n",
    "                List any family medical history hx.\\\n",
    "                Provide your answers as a markdown\")\n",
    "print(q1_name[\"result\"])\n",
    "q1_name[\"source_documents\"]"
   ]
  },
  {
   "cell_type": "code",
   "execution_count": null,
   "metadata": {},
   "outputs": [],
   "source": []
  }
 ],
 "metadata": {
  "kernelspec": {
   "display_name": "Python 3 (ipykernel)",
   "language": "python",
   "name": "python3"
  },
  "language_info": {
   "codemirror_mode": {
    "name": "ipython",
    "version": 3
   },
   "file_extension": ".py",
   "mimetype": "text/x-python",
   "name": "python",
   "nbconvert_exporter": "python",
   "pygments_lexer": "ipython3",
   "version": "3.9.7"
  }
 },
 "nbformat": 4,
 "nbformat_minor": 2
}
